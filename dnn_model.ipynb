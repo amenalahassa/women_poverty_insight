{
 "cells": [
  {
   "metadata": {
    "ExecuteTime": {
     "end_time": "2025-03-28T21:28:18.970836Z",
     "start_time": "2025-03-28T21:28:18.636756Z"
    }
   },
   "cell_type": "code",
   "source": [
    "from ydf_model import evaluation\n",
    "!.venv/bin/pip3 install -r requirements.txt"
   ],
   "id": "45ae6082f3f0015d",
   "outputs": [
    {
     "name": "stdout",
     "output_type": "stream",
     "text": [
      "\u001B[1;31merror\u001B[0m: \u001B[1mexternally-managed-environment\u001B[0m\r\n",
      "\r\n",
      "\u001B[31m×\u001B[0m This environment is externally managed\r\n",
      "\u001B[31m╰─>\u001B[0m To install Python packages system-wide, try apt install\r\n",
      "\u001B[31m   \u001B[0m python3-xyz, where xyz is the package you are trying to\r\n",
      "\u001B[31m   \u001B[0m install.\r\n",
      "\u001B[31m   \u001B[0m \r\n",
      "\u001B[31m   \u001B[0m If you wish to install a non-Debian-packaged Python package,\r\n",
      "\u001B[31m   \u001B[0m create a virtual environment using python3 -m venv path/to/venv.\r\n",
      "\u001B[31m   \u001B[0m Then use path/to/venv/bin/python and path/to/venv/bin/pip. Make\r\n",
      "\u001B[31m   \u001B[0m sure you have python3-full installed.\r\n",
      "\u001B[31m   \u001B[0m \r\n",
      "\u001B[31m   \u001B[0m If you wish to install a non-Debian packaged Python application,\r\n",
      "\u001B[31m   \u001B[0m it may be easiest to use pipx install xyz, which will manage a\r\n",
      "\u001B[31m   \u001B[0m virtual environment for you. Make sure you have pipx installed.\r\n",
      "\u001B[31m   \u001B[0m \r\n",
      "\u001B[31m   \u001B[0m See /usr/share/doc/python3.12/README.venv for more information.\r\n",
      "\r\n",
      "\u001B[1;35mnote\u001B[0m: If you believe this is a mistake, please contact your Python installation or OS distribution provider. You can override this, at the risk of breaking your Python installation or OS, by passing --break-system-packages.\r\n",
      "\u001B[1;36mhint\u001B[0m: See PEP 668 for the detailed specification.\r\n"
     ]
    }
   ],
   "execution_count": 4
  },
  {
   "cell_type": "code",
   "id": "initial_id",
   "metadata": {
    "collapsed": true,
    "ExecuteTime": {
     "end_time": "2025-03-29T01:19:56.406910Z",
     "start_time": "2025-03-29T01:19:54.969984Z"
    }
   },
   "source": [
    "import pandas as pd\n",
    "import numpy as np\n",
    "from matplotlib import pyplot as plt\n",
    "import tensorflow as tf\n",
    "import math\n",
    "import ydf  # Yggdrasil Decision Forests\n",
    "from sklearn.model_selection import train_test_split\n",
    "from wurlitzer import sys_pipes\n",
    "from sklearn.model_selection import KFold\n",
    "import tqdm as tqdm\n",
    "from sklearn.preprocessing import MinMaxScaler\n",
    "from functools import partial\n",
    "\n",
    "%matplotlib inline\n",
    "plt.rcParams['figure.figsize'] = [16, 10]"
   ],
   "outputs": [
    {
     "name": "stderr",
     "output_type": "stream",
     "text": [
      "2025-03-28 21:19:55.152783: E external/local_xla/xla/stream_executor/cuda/cuda_fft.cc:467] Unable to register cuFFT factory: Attempting to register factory for plugin cuFFT when one has already been registered\n",
      "WARNING: All log messages before absl::InitializeLog() is called are written to STDERR\n",
      "E0000 00:00:1743211195.164603  141135 cuda_dnn.cc:8579] Unable to register cuDNN factory: Attempting to register factory for plugin cuDNN when one has already been registered\n",
      "E0000 00:00:1743211195.168188  141135 cuda_blas.cc:1407] Unable to register cuBLAS factory: Attempting to register factory for plugin cuBLAS when one has already been registered\n",
      "W0000 00:00:1743211195.177953  141135 computation_placer.cc:177] computation placer already registered. Please check linkage and avoid linking the same target more than once.\n",
      "W0000 00:00:1743211195.177961  141135 computation_placer.cc:177] computation placer already registered. Please check linkage and avoid linking the same target more than once.\n",
      "W0000 00:00:1743211195.177963  141135 computation_placer.cc:177] computation placer already registered. Please check linkage and avoid linking the same target more than once.\n",
      "W0000 00:00:1743211195.177964  141135 computation_placer.cc:177] computation placer already registered. Please check linkage and avoid linking the same target more than once.\n",
      "2025-03-28 21:19:55.181132: I tensorflow/core/platform/cpu_feature_guard.cc:210] This TensorFlow binary is optimized to use available CPU instructions in performance-critical operations.\n",
      "To enable the following instructions: AVX2 FMA, in other operations, rebuild TensorFlow with the appropriate compiler flags.\n"
     ]
    }
   ],
   "execution_count": 1
  },
  {
   "metadata": {
    "ExecuteTime": {
     "end_time": "2025-03-29T01:20:10.577996Z",
     "start_time": "2025-03-29T01:20:10.574990Z"
    }
   },
   "cell_type": "code",
   "source": [
    "gpus = tf.config.experimental.list_physical_devices('GPU')\n",
    "if gpus:\n",
    "    try:\n",
    "        # Set memory growth to avoid TensorFlow using all GPU memory\n",
    "        for gpu in gpus:\n",
    "            tf.config.experimental.set_memory_growth(gpu, True)\n",
    "\n",
    "        # Set TensorFlow to use only the first GPU (if multiple GPUs available)\n",
    "        tf.config.experimental.set_visible_devices(gpus[0], 'GPU')\n",
    "\n",
    "        tf.config.set_logical_device_configuration(\n",
    "            gpus[0],\n",
    "            [tf.config.LogicalDeviceConfiguration(memory_limit=4096 * 4)]  # Set memory limit to 4*4GB\n",
    "        )\n",
    "\n",
    "        print(\"Using GPU:\", gpus[0])\n",
    "    except RuntimeError as e:\n",
    "        print(e)"
   ],
   "id": "1cbeeb19f955c7f",
   "outputs": [
    {
     "name": "stdout",
     "output_type": "stream",
     "text": [
      "Using GPU: PhysicalDevice(name='/physical_device:GPU:0', device_type='GPU')\n"
     ]
    }
   ],
   "execution_count": 3
  },
  {
   "metadata": {
    "ExecuteTime": {
     "end_time": "2025-03-29T01:20:13.887881Z",
     "start_time": "2025-03-29T01:20:13.884346Z"
    }
   },
   "cell_type": "code",
   "source": [
    "def train_and_eval(model, train_ds, test_ds = None):\n",
    "    # Optionally, add evaluation metrics.\n",
    "    model.compile(metrics=[\"mse\"])\n",
    "    rmse = 0\n",
    "\n",
    "    with sys_pipes():\n",
    "        model.fit(x=train_ds)\n",
    "\n",
    "    if test_ds is not None:\n",
    "        evaluation = model.evaluate(x=test_ds, return_dict=True)\n",
    "        rmse = math.sqrt(evaluation[\"mse\"])\n",
    "\n",
    "    return rmse\n",
    "\n",
    "def latlon_to_xyz(lat, lon):\n",
    "    lat, lon = np.radians(lat), np.radians(lon)\n",
    "    x = np.cos(lat) * np.cos(lon)\n",
    "    y = np.cos(lat) * np.sin(lon)\n",
    "    z = np.sin(lat)\n",
    "    return x, y, z\n",
    "\n",
    "# Example: Normalize Cartesian coordinates between 0 and 1\n",
    "def normalize_xyz(x, y, z):\n",
    "    # Normalizing each coordinate to the [0, 1] range\n",
    "    return (x + 1) / 2, (y + 1) / 2, (z + 1) / 2"
   ],
   "id": "6c9c236a46c60459",
   "outputs": [],
   "execution_count": 4
  },
  {
   "metadata": {
    "ExecuteTime": {
     "end_time": "2025-03-29T01:20:15.856715Z",
     "start_time": "2025-03-29T01:20:15.807151Z"
    }
   },
   "cell_type": "code",
   "source": [
    "ROOT_DIR = \"temporary\"\n",
    "train_df = pd.read_csv(f'{ROOT_DIR}/Train.csv')\n",
    "test_df = pd.read_csv(f'{ROOT_DIR}/Test.csv')\n",
    "vocab_df = pd.read_csv(f'{ROOT_DIR}/variable_descriptions.csv')\n",
    "admin_df = pd.read_csv(f'{ROOT_DIR}/zaf_adminboundaries_tabulardata.csv', sep=\";\")\n",
    "\n",
    "admin_df = admin_df[[\"ADM4_PCODE\", \"AREA_SQKM\", \"ADM2_ID\"]] # ADM3_ID\n",
    "admin_df[\"AREA_SQKM\"] = admin_df[\"AREA_SQKM\"].str.replace(\",\", \".\").astype(float)\n",
    "train_df = pd.merge(train_df, admin_df, on=\"ADM4_PCODE\", how=\"left\")\n",
    "test_df = pd.merge(test_df, admin_df, on=\"ADM4_PCODE\", how=\"left\")\n",
    "label_column = \"target\"\n",
    "\n",
    "default_columns = [\"ward\", \"ADM4_PCODE\"]\n",
    "nul_cols = [\"dw_12\", \"dw_13\", \"lan_13\", \"pw_08\", \"pw_07\"] # Columns with null values\n",
    "cat_columns = [\"ADM2_ID\"] # Categorical columns\n",
    "ft_columns = default_columns + cat_columns"
   ],
   "id": "baaa89ce9b2530a6",
   "outputs": [],
   "execution_count": 5
  },
  {
   "metadata": {
    "ExecuteTime": {
     "end_time": "2025-03-29T01:20:21.896886Z",
     "start_time": "2025-03-29T01:20:21.893063Z"
    }
   },
   "cell_type": "code",
   "source": [
    "from sklearn.preprocessing import OneHotEncoder\n",
    "\n",
    "scaler = MinMaxScaler()\n",
    "def preprocess_df(input_df, is_train=False):\n",
    "    drop_cols = []\n",
    "    df = input_df.copy()\n",
    "    df = df.drop(nul_cols, axis=1)\n",
    "\n",
    "    ## Create a new feature\n",
    "    df[\"phi\"] = df[\"total_individuals\"] / df[\"total_households\"]\n",
    "    df[\"id_area\"] = df[\"total_individuals\"] / df[\"AREA_SQKM\"]\n",
    "    df[\"hs_area\"] = df[\"total_households\"] / df[\"AREA_SQKM\"]\n",
    "    \n",
    "    ## Normalize some columns\n",
    "    norm_cols = [\"phi\", \"NL\", \"id_area\", \"hs_area\"]\n",
    "    df[norm_cols] = scaler.fit_transform(df[norm_cols]) if is_train else scaler.transform(df[norm_cols])\n",
    "\n",
    "    ## Encode categorical columns\n",
    "    # encoded = categorical_encoder.fit_transform(df[cat_columns]) if is_train else categorical_encoder.transform(df[cat_columns])\n",
    "    # encoded_df = pd.DataFrame(encoded, columns=categorical_encoder.get_feature_names_out(cat_columns))\n",
    "    # df = pd.concat([df, encoded_df], axis=1)\n",
    "    drop_cols = drop_cols + cat_columns\n",
    "    \n",
    "    ## Transform lat and lon to xyz\n",
    "    df[\"x\"], df[\"y\"], df[\"z\"] = zip(*df.apply(lambda x: latlon_to_xyz(x[\"lat\"], x[\"lon\"]), axis=1))\n",
    "    df[\"x\"], df[\"y\"], df[\"z\"] = zip(*df.apply(lambda x: normalize_xyz(x[\"x\"], x[\"y\"], x[\"z\"]), axis=1))\n",
    "\n",
    "    drop_cols = drop_cols + default_columns\n",
    "    if len(drop_cols) > 0:\n",
    "        df.drop(drop_cols, axis=1, inplace=True)\n",
    "    \n",
    "    return df\n",
    "\n",
    "## Test preprocess_df\n",
    "# preprocess_df(train_ds_pd, is_train=True).head()"
   ],
   "id": "1359c575af7915c5",
   "outputs": [],
   "execution_count": 6
  },
  {
   "metadata": {},
   "cell_type": "markdown",
   "source": [
    "We assume in the preprocessing that:\n",
    "- We drop columns with null values.\n",
    "- We remove the categorical columns because it is not the same in the train and test set."
   ],
   "id": "58b92619a5ed198b"
  },
  {
   "metadata": {},
   "cell_type": "code",
   "outputs": [],
   "execution_count": null,
   "source": "",
   "id": "2eaeac46e2712dea"
  },
  {
   "metadata": {
    "ExecuteTime": {
     "end_time": "2025-03-29T02:21:15.095090Z",
     "start_time": "2025-03-29T02:21:15.090923Z"
    }
   },
   "cell_type": "code",
   "source": [
    "from tensorflow.keras import layers\n",
    "import keras_tuner as kt\n",
    "\n",
    "def rmse(y_true, y_pred):\n",
    "    mse_loss = tf.keras.losses.MeanSquaredError(reduction=\"sum_over_batch_size\")\n",
    "    return tf.sqrt(mse_loss(y_true, y_pred))\n",
    "\n",
    "def build_model(hp, num_features):\n",
    "    model = tf.keras.Sequential()\n",
    "\n",
    "    # Start with Input layer\n",
    "    model.add(layers.Input(shape=(num_features,)))\n",
    "\n",
    "    # Hyperparameter: Number of dense layers (1 to 10)\n",
    "    num_layers = hp.Int('num_layers', min_value=1, max_value=10, step=1)\n",
    "\n",
    "    for i in range(num_layers):\n",
    "        # Decreasing number of units as we go deeper\n",
    "        units = hp.Int(f'units_{i}', min_value=10, max_value=max(1000 // (2**i), 10), step=10)\n",
    "        model.add(layers.Dense(units=units, activation='relu'))\n",
    "\n",
    "        # Adding Dropout layer with HP-selected rate\n",
    "        dropout_rate = hp.Float(f'dropout_rate_{i}', min_value=0.0, max_value=0.9, step=0.1)\n",
    "        model.add(layers.Dropout(rate=dropout_rate))\n",
    "\n",
    "    # Output layer for regression\n",
    "    model.add(layers.Dense(1))\n",
    "\n",
    "    # Hyperparameter: Learning rate (1e-8 to 1e-1)\n",
    "    hp_learning_rate = hp.Float('learning_rate', min_value=1e-8, max_value=1e-1, sampling='LOG')\n",
    "\n",
    "    model.compile(\n",
    "        optimizer=tf.keras.optimizers.Adam(learning_rate=hp_learning_rate),\n",
    "        loss=tf.keras.losses.MeanSquaredError(),\n",
    "        metrics=['mse','mae', rmse]\n",
    "    )\n",
    "    return model"
   ],
   "id": "92ce8041d0e10ef3",
   "outputs": [],
   "execution_count": 45
  },
  {
   "metadata": {
    "ExecuteTime": {
     "end_time": "2025-03-29T02:21:17.930073Z",
     "start_time": "2025-03-29T02:21:17.864989Z"
    }
   },
   "cell_type": "code",
   "source": [
    "X = train_df.drop(label_column, axis=1)\n",
    "y = train_df[label_column]\n",
    "X_train, X_val, y_train, y_val = train_test_split(X, y, test_size=0.2, shuffle=False)\n",
    "\n",
    "X_train = preprocess_df(X_train, is_train=True)\n",
    "X_val = preprocess_df(X_val, is_train=False)\n",
    "train_ds_pd = pd.concat([X_train, y_train], axis=1)\n",
    "test_ds_pd = pd.concat([X_val, y_val], axis=1)"
   ],
   "id": "b36302a08efd75c",
   "outputs": [],
   "execution_count": 47
  },
  {
   "metadata": {
    "ExecuteTime": {
     "end_time": "2025-03-29T02:21:20.004998Z",
     "start_time": "2025-03-29T02:21:19.973599Z"
    }
   },
   "cell_type": "code",
   "source": [
    "## Pre-set the number of features\n",
    "num_features = len(X_train.columns)\n",
    "build_model = partial(build_model, num_features=num_features)\n",
    "\n",
    "tuner = kt.BayesianOptimization(build_model, objective='val_mse',\n",
    "                     max_trials = 100,\n",
    "                    # max_epochs=100,\n",
    "                     overwrite=True,\n",
    "                     # factor=3,\n",
    "                     directory='/tmp/keras_tuning',\n",
    "                     distribution_strategy=tf.distribute.MirroredStrategy(),\n",
    "                     project_name='women_poverty')\n",
    "stop_early = tf.keras.callbacks.EarlyStopping(monitor='val_loss', patience=5)\n",
    "\n",
    "(x_train, y_train) = (X_train.to_numpy(), y_train.to_numpy())\n",
    "(x_val, y_val) = (X_val.to_numpy(), y_val.to_numpy())"
   ],
   "id": "7327c6d02f3c8cf0",
   "outputs": [
    {
     "name": "stdout",
     "output_type": "stream",
     "text": [
      "INFO:tensorflow:Using MirroredStrategy with devices ('/job:localhost/replica:0/task:0/device:GPU:0',)\n"
     ]
    },
    {
     "name": "stderr",
     "output_type": "stream",
     "text": [
      "INFO:tensorflow:Using MirroredStrategy with devices ('/job:localhost/replica:0/task:0/device:GPU:0',)\n"
     ]
    }
   ],
   "execution_count": 48
  },
  {
   "metadata": {},
   "cell_type": "code",
   "source": "tuner.search(x=x_train, y=y_train, epochs=100, validation_split=0.2, callbacks=[stop_early])",
   "id": "f2b9d08f5dd19fd0",
   "execution_count": 49,
   "outputs": [
    {
     "name": "stdout",
     "output_type": "stream",
     "text": [
      "Trial 100 Complete [00h 00m 47s]\n",
      "val_mse: 642.852294921875\n",
      "\n",
      "Best val_mse So Far: 108.28132629394531\n",
      "Total elapsed time: 00h 46m 54s\n"
     ]
    }
   ]
  },
  {
   "metadata": {
    "ExecuteTime": {
     "end_time": "2025-03-29T11:33:54.214056Z",
     "start_time": "2025-03-29T11:33:54.209997Z"
    }
   },
   "cell_type": "code",
   "source": "tuner.results_summary(num_trials=2)",
   "id": "368f615f3c4eca7",
   "outputs": [
    {
     "name": "stdout",
     "output_type": "stream",
     "text": [
      "Results summary\n",
      "Results in /tmp/keras_tuning/women_poverty\n",
      "Showing 2 best trials\n",
      "Objective(name=\"val_mse\", direction=\"min\")\n",
      "\n",
      "Trial 049 summary\n",
      "Hyperparameters:\n",
      "num_layers: 4\n",
      "units_0: 880\n",
      "dropout_rate_0: 0.5\n",
      "learning_rate: 0.003984890293664518\n",
      "units_1: 120\n",
      "dropout_rate_1: 0.2\n",
      "units_2: 40\n",
      "dropout_rate_2: 0.2\n",
      "units_3: 70\n",
      "dropout_rate_3: 0.1\n",
      "units_4: 30\n",
      "dropout_rate_4: 0.30000000000000004\n",
      "units_5: 20\n",
      "dropout_rate_5: 0.1\n",
      "units_6: 10\n",
      "dropout_rate_6: 0.5\n",
      "units_7: 10\n",
      "dropout_rate_7: 0.4\n",
      "units_8: 10\n",
      "dropout_rate_8: 0.5\n",
      "units_9: 10\n",
      "dropout_rate_9: 0.5\n",
      "Score: 108.28132629394531\n",
      "\n",
      "Trial 079 summary\n",
      "Hyperparameters:\n",
      "num_layers: 10\n",
      "units_0: 120\n",
      "dropout_rate_0: 0.0\n",
      "learning_rate: 0.04650218793481366\n",
      "units_1: 60\n",
      "dropout_rate_1: 0.0\n",
      "units_2: 120\n",
      "dropout_rate_2: 0.1\n",
      "units_3: 30\n",
      "dropout_rate_3: 0.2\n",
      "units_4: 50\n",
      "dropout_rate_4: 0.2\n",
      "units_5: 20\n",
      "dropout_rate_5: 0.4\n",
      "units_6: 10\n",
      "dropout_rate_6: 0.5\n",
      "units_7: 10\n",
      "dropout_rate_7: 0.6000000000000001\n",
      "units_8: 10\n",
      "dropout_rate_8: 0.1\n",
      "units_9: 10\n",
      "dropout_rate_9: 0.8\n",
      "Score: 108.28132629394531\n"
     ]
    }
   ],
   "execution_count": 51
  },
  {
   "metadata": {
    "ExecuteTime": {
     "end_time": "2025-03-29T11:35:00.733808Z",
     "start_time": "2025-03-29T11:35:00.730418Z"
    }
   },
   "cell_type": "code",
   "source": "tuner.search_space_summary(extended=False)\n",
   "id": "9c037dfc7b86da7b",
   "outputs": [
    {
     "name": "stdout",
     "output_type": "stream",
     "text": [
      "Search space summary\n",
      "Default search space size: 22\n",
      "num_layers (Int)\n",
      "{'default': None, 'conditions': [], 'min_value': 1, 'max_value': 10, 'step': 1, 'sampling': 'linear'}\n",
      "units_0 (Int)\n",
      "{'default': None, 'conditions': [], 'min_value': 10, 'max_value': 1000, 'step': 10, 'sampling': 'linear'}\n",
      "dropout_rate_0 (Float)\n",
      "{'default': 0.0, 'conditions': [], 'min_value': 0.0, 'max_value': 0.9, 'step': 0.1, 'sampling': 'linear'}\n",
      "learning_rate (Float)\n",
      "{'default': 1e-08, 'conditions': [], 'min_value': 1e-08, 'max_value': 0.1, 'step': None, 'sampling': 'log'}\n",
      "units_1 (Int)\n",
      "{'default': None, 'conditions': [], 'min_value': 10, 'max_value': 500, 'step': 10, 'sampling': 'linear'}\n",
      "dropout_rate_1 (Float)\n",
      "{'default': 0.0, 'conditions': [], 'min_value': 0.0, 'max_value': 0.9, 'step': 0.1, 'sampling': 'linear'}\n",
      "units_2 (Int)\n",
      "{'default': None, 'conditions': [], 'min_value': 10, 'max_value': 250, 'step': 10, 'sampling': 'linear'}\n",
      "dropout_rate_2 (Float)\n",
      "{'default': 0.0, 'conditions': [], 'min_value': 0.0, 'max_value': 0.9, 'step': 0.1, 'sampling': 'linear'}\n",
      "units_3 (Int)\n",
      "{'default': None, 'conditions': [], 'min_value': 10, 'max_value': 125, 'step': 10, 'sampling': 'linear'}\n",
      "dropout_rate_3 (Float)\n",
      "{'default': 0.0, 'conditions': [], 'min_value': 0.0, 'max_value': 0.9, 'step': 0.1, 'sampling': 'linear'}\n",
      "units_4 (Int)\n",
      "{'default': None, 'conditions': [], 'min_value': 10, 'max_value': 62, 'step': 10, 'sampling': 'linear'}\n",
      "dropout_rate_4 (Float)\n",
      "{'default': 0.0, 'conditions': [], 'min_value': 0.0, 'max_value': 0.9, 'step': 0.1, 'sampling': 'linear'}\n",
      "units_5 (Int)\n",
      "{'default': None, 'conditions': [], 'min_value': 10, 'max_value': 31, 'step': 10, 'sampling': 'linear'}\n",
      "dropout_rate_5 (Float)\n",
      "{'default': 0.0, 'conditions': [], 'min_value': 0.0, 'max_value': 0.9, 'step': 0.1, 'sampling': 'linear'}\n",
      "units_6 (Int)\n",
      "{'default': None, 'conditions': [], 'min_value': 10, 'max_value': 15, 'step': 10, 'sampling': 'linear'}\n",
      "dropout_rate_6 (Float)\n",
      "{'default': 0.0, 'conditions': [], 'min_value': 0.0, 'max_value': 0.9, 'step': 0.1, 'sampling': 'linear'}\n",
      "units_7 (Int)\n",
      "{'default': None, 'conditions': [], 'min_value': 10, 'max_value': 10, 'step': 10, 'sampling': 'linear'}\n",
      "dropout_rate_7 (Float)\n",
      "{'default': 0.0, 'conditions': [], 'min_value': 0.0, 'max_value': 0.9, 'step': 0.1, 'sampling': 'linear'}\n",
      "units_8 (Int)\n",
      "{'default': None, 'conditions': [], 'min_value': 10, 'max_value': 10, 'step': 10, 'sampling': 'linear'}\n",
      "dropout_rate_8 (Float)\n",
      "{'default': 0.0, 'conditions': [], 'min_value': 0.0, 'max_value': 0.9, 'step': 0.1, 'sampling': 'linear'}\n",
      "units_9 (Int)\n",
      "{'default': None, 'conditions': [], 'min_value': 10, 'max_value': 10, 'step': 10, 'sampling': 'linear'}\n",
      "dropout_rate_9 (Float)\n",
      "{'default': 0.0, 'conditions': [], 'min_value': 0.0, 'max_value': 0.9, 'step': 0.1, 'sampling': 'linear'}\n"
     ]
    }
   ],
   "execution_count": 52
  },
  {
   "metadata": {
    "ExecuteTime": {
     "end_time": "2025-03-29T11:35:22.966274Z",
     "start_time": "2025-03-29T11:35:22.885039Z"
    }
   },
   "cell_type": "code",
   "source": [
    "best_hps= tuner.get_best_hyperparameters(num_trials=1)[0]\n",
    "model = tuner.hypermodel.build(best_hps)\n",
    "model.summary()"
   ],
   "id": "6632a9f5313ae9d6",
   "outputs": [
    {
     "data": {
      "text/plain": [
       "\u001B[1mModel: \"sequential_1\"\u001B[0m\n"
      ],
      "text/html": [
       "<pre style=\"white-space:pre;overflow-x:auto;line-height:normal;font-family:Menlo,'DejaVu Sans Mono',consolas,'Courier New',monospace\"><span style=\"font-weight: bold\">Model: \"sequential_1\"</span>\n",
       "</pre>\n"
      ]
     },
     "metadata": {},
     "output_type": "display_data"
    },
    {
     "data": {
      "text/plain": [
       "┏━━━━━━━━━━━━━━━━━━━━━━━━━━━━━━━━━┳━━━━━━━━━━━━━━━━━━━━━━━━┳━━━━━━━━━━━━━━━┓\n",
       "┃\u001B[1m \u001B[0m\u001B[1mLayer (type)                   \u001B[0m\u001B[1m \u001B[0m┃\u001B[1m \u001B[0m\u001B[1mOutput Shape          \u001B[0m\u001B[1m \u001B[0m┃\u001B[1m \u001B[0m\u001B[1m      Param #\u001B[0m\u001B[1m \u001B[0m┃\n",
       "┡━━━━━━━━━━━━━━━━━━━━━━━━━━━━━━━━━╇━━━━━━━━━━━━━━━━━━━━━━━━╇━━━━━━━━━━━━━━━┩\n",
       "│ dense_6 (\u001B[38;5;33mDense\u001B[0m)                 │ (\u001B[38;5;45mNone\u001B[0m, \u001B[38;5;34m880\u001B[0m)            │        \u001B[38;5;34m55,440\u001B[0m │\n",
       "├─────────────────────────────────┼────────────────────────┼───────────────┤\n",
       "│ dropout_5 (\u001B[38;5;33mDropout\u001B[0m)             │ (\u001B[38;5;45mNone\u001B[0m, \u001B[38;5;34m880\u001B[0m)            │             \u001B[38;5;34m0\u001B[0m │\n",
       "├─────────────────────────────────┼────────────────────────┼───────────────┤\n",
       "│ dense_7 (\u001B[38;5;33mDense\u001B[0m)                 │ (\u001B[38;5;45mNone\u001B[0m, \u001B[38;5;34m120\u001B[0m)            │       \u001B[38;5;34m105,720\u001B[0m │\n",
       "├─────────────────────────────────┼────────────────────────┼───────────────┤\n",
       "│ dropout_6 (\u001B[38;5;33mDropout\u001B[0m)             │ (\u001B[38;5;45mNone\u001B[0m, \u001B[38;5;34m120\u001B[0m)            │             \u001B[38;5;34m0\u001B[0m │\n",
       "├─────────────────────────────────┼────────────────────────┼───────────────┤\n",
       "│ dense_8 (\u001B[38;5;33mDense\u001B[0m)                 │ (\u001B[38;5;45mNone\u001B[0m, \u001B[38;5;34m40\u001B[0m)             │         \u001B[38;5;34m4,840\u001B[0m │\n",
       "├─────────────────────────────────┼────────────────────────┼───────────────┤\n",
       "│ dropout_7 (\u001B[38;5;33mDropout\u001B[0m)             │ (\u001B[38;5;45mNone\u001B[0m, \u001B[38;5;34m40\u001B[0m)             │             \u001B[38;5;34m0\u001B[0m │\n",
       "├─────────────────────────────────┼────────────────────────┼───────────────┤\n",
       "│ dense_9 (\u001B[38;5;33mDense\u001B[0m)                 │ (\u001B[38;5;45mNone\u001B[0m, \u001B[38;5;34m70\u001B[0m)             │         \u001B[38;5;34m2,870\u001B[0m │\n",
       "├─────────────────────────────────┼────────────────────────┼───────────────┤\n",
       "│ dropout_8 (\u001B[38;5;33mDropout\u001B[0m)             │ (\u001B[38;5;45mNone\u001B[0m, \u001B[38;5;34m70\u001B[0m)             │             \u001B[38;5;34m0\u001B[0m │\n",
       "├─────────────────────────────────┼────────────────────────┼───────────────┤\n",
       "│ dense_10 (\u001B[38;5;33mDense\u001B[0m)                │ (\u001B[38;5;45mNone\u001B[0m, \u001B[38;5;34m1\u001B[0m)              │            \u001B[38;5;34m71\u001B[0m │\n",
       "└─────────────────────────────────┴────────────────────────┴───────────────┘\n"
      ],
      "text/html": [
       "<pre style=\"white-space:pre;overflow-x:auto;line-height:normal;font-family:Menlo,'DejaVu Sans Mono',consolas,'Courier New',monospace\">┏━━━━━━━━━━━━━━━━━━━━━━━━━━━━━━━━━┳━━━━━━━━━━━━━━━━━━━━━━━━┳━━━━━━━━━━━━━━━┓\n",
       "┃<span style=\"font-weight: bold\"> Layer (type)                    </span>┃<span style=\"font-weight: bold\"> Output Shape           </span>┃<span style=\"font-weight: bold\">       Param # </span>┃\n",
       "┡━━━━━━━━━━━━━━━━━━━━━━━━━━━━━━━━━╇━━━━━━━━━━━━━━━━━━━━━━━━╇━━━━━━━━━━━━━━━┩\n",
       "│ dense_6 (<span style=\"color: #0087ff; text-decoration-color: #0087ff\">Dense</span>)                 │ (<span style=\"color: #00d7ff; text-decoration-color: #00d7ff\">None</span>, <span style=\"color: #00af00; text-decoration-color: #00af00\">880</span>)            │        <span style=\"color: #00af00; text-decoration-color: #00af00\">55,440</span> │\n",
       "├─────────────────────────────────┼────────────────────────┼───────────────┤\n",
       "│ dropout_5 (<span style=\"color: #0087ff; text-decoration-color: #0087ff\">Dropout</span>)             │ (<span style=\"color: #00d7ff; text-decoration-color: #00d7ff\">None</span>, <span style=\"color: #00af00; text-decoration-color: #00af00\">880</span>)            │             <span style=\"color: #00af00; text-decoration-color: #00af00\">0</span> │\n",
       "├─────────────────────────────────┼────────────────────────┼───────────────┤\n",
       "│ dense_7 (<span style=\"color: #0087ff; text-decoration-color: #0087ff\">Dense</span>)                 │ (<span style=\"color: #00d7ff; text-decoration-color: #00d7ff\">None</span>, <span style=\"color: #00af00; text-decoration-color: #00af00\">120</span>)            │       <span style=\"color: #00af00; text-decoration-color: #00af00\">105,720</span> │\n",
       "├─────────────────────────────────┼────────────────────────┼───────────────┤\n",
       "│ dropout_6 (<span style=\"color: #0087ff; text-decoration-color: #0087ff\">Dropout</span>)             │ (<span style=\"color: #00d7ff; text-decoration-color: #00d7ff\">None</span>, <span style=\"color: #00af00; text-decoration-color: #00af00\">120</span>)            │             <span style=\"color: #00af00; text-decoration-color: #00af00\">0</span> │\n",
       "├─────────────────────────────────┼────────────────────────┼───────────────┤\n",
       "│ dense_8 (<span style=\"color: #0087ff; text-decoration-color: #0087ff\">Dense</span>)                 │ (<span style=\"color: #00d7ff; text-decoration-color: #00d7ff\">None</span>, <span style=\"color: #00af00; text-decoration-color: #00af00\">40</span>)             │         <span style=\"color: #00af00; text-decoration-color: #00af00\">4,840</span> │\n",
       "├─────────────────────────────────┼────────────────────────┼───────────────┤\n",
       "│ dropout_7 (<span style=\"color: #0087ff; text-decoration-color: #0087ff\">Dropout</span>)             │ (<span style=\"color: #00d7ff; text-decoration-color: #00d7ff\">None</span>, <span style=\"color: #00af00; text-decoration-color: #00af00\">40</span>)             │             <span style=\"color: #00af00; text-decoration-color: #00af00\">0</span> │\n",
       "├─────────────────────────────────┼────────────────────────┼───────────────┤\n",
       "│ dense_9 (<span style=\"color: #0087ff; text-decoration-color: #0087ff\">Dense</span>)                 │ (<span style=\"color: #00d7ff; text-decoration-color: #00d7ff\">None</span>, <span style=\"color: #00af00; text-decoration-color: #00af00\">70</span>)             │         <span style=\"color: #00af00; text-decoration-color: #00af00\">2,870</span> │\n",
       "├─────────────────────────────────┼────────────────────────┼───────────────┤\n",
       "│ dropout_8 (<span style=\"color: #0087ff; text-decoration-color: #0087ff\">Dropout</span>)             │ (<span style=\"color: #00d7ff; text-decoration-color: #00d7ff\">None</span>, <span style=\"color: #00af00; text-decoration-color: #00af00\">70</span>)             │             <span style=\"color: #00af00; text-decoration-color: #00af00\">0</span> │\n",
       "├─────────────────────────────────┼────────────────────────┼───────────────┤\n",
       "│ dense_10 (<span style=\"color: #0087ff; text-decoration-color: #0087ff\">Dense</span>)                │ (<span style=\"color: #00d7ff; text-decoration-color: #00d7ff\">None</span>, <span style=\"color: #00af00; text-decoration-color: #00af00\">1</span>)              │            <span style=\"color: #00af00; text-decoration-color: #00af00\">71</span> │\n",
       "└─────────────────────────────────┴────────────────────────┴───────────────┘\n",
       "</pre>\n"
      ]
     },
     "metadata": {},
     "output_type": "display_data"
    },
    {
     "data": {
      "text/plain": [
       "\u001B[1m Total params: \u001B[0m\u001B[38;5;34m168,941\u001B[0m (659.93 KB)\n"
      ],
      "text/html": [
       "<pre style=\"white-space:pre;overflow-x:auto;line-height:normal;font-family:Menlo,'DejaVu Sans Mono',consolas,'Courier New',monospace\"><span style=\"font-weight: bold\"> Total params: </span><span style=\"color: #00af00; text-decoration-color: #00af00\">168,941</span> (659.93 KB)\n",
       "</pre>\n"
      ]
     },
     "metadata": {},
     "output_type": "display_data"
    },
    {
     "data": {
      "text/plain": [
       "\u001B[1m Trainable params: \u001B[0m\u001B[38;5;34m168,941\u001B[0m (659.93 KB)\n"
      ],
      "text/html": [
       "<pre style=\"white-space:pre;overflow-x:auto;line-height:normal;font-family:Menlo,'DejaVu Sans Mono',consolas,'Courier New',monospace\"><span style=\"font-weight: bold\"> Trainable params: </span><span style=\"color: #00af00; text-decoration-color: #00af00\">168,941</span> (659.93 KB)\n",
       "</pre>\n"
      ]
     },
     "metadata": {},
     "output_type": "display_data"
    },
    {
     "data": {
      "text/plain": [
       "\u001B[1m Non-trainable params: \u001B[0m\u001B[38;5;34m0\u001B[0m (0.00 B)\n"
      ],
      "text/html": [
       "<pre style=\"white-space:pre;overflow-x:auto;line-height:normal;font-family:Menlo,'DejaVu Sans Mono',consolas,'Courier New',monospace\"><span style=\"font-weight: bold\"> Non-trainable params: </span><span style=\"color: #00af00; text-decoration-color: #00af00\">0</span> (0.00 B)\n",
       "</pre>\n"
      ]
     },
     "metadata": {},
     "output_type": "display_data"
    }
   ],
   "execution_count": 53
  },
  {
   "metadata": {},
   "cell_type": "markdown",
   "source": "On peut remarquer que le meilleur modele est celui avec une architecture en tunel avec 5 couches denses et le dropout pour les premieres couches sont nulles. Le modele apprend donc a chaque couche a retenir les informations importantes.",
   "id": "7924424ee68eb7cb"
  },
  {
   "metadata": {
    "ExecuteTime": {
     "end_time": "2025-03-29T11:40:48.728766Z",
     "start_time": "2025-03-29T11:40:29.758140Z"
    }
   },
   "cell_type": "code",
   "source": [
    "## Use ydf instead of tfdf\n",
    "\n",
    "strategy = tf.distribute.MirroredStrategy()\n",
    "with strategy.scope():\n",
    "    best_hps= tuner.get_best_hyperparameters(num_trials=1)[0]\n",
    "    model = tuner.hypermodel.build(best_hps)\n",
    "    history = model.fit(x=x_train, y=y_train, validation_data=(X_val, y_val), epochs=100, callbacks=[stop_early])\n",
    "\n",
    "val_acc_per_epoch = history.history['val_mse']\n",
    "best_epoch = val_acc_per_epoch.index(min(val_acc_per_epoch)) + 1\n",
    "print('Best epoch: %d' % (best_epoch,))"
   ],
   "id": "587c27410c7ca3d1",
   "outputs": [
    {
     "name": "stdout",
     "output_type": "stream",
     "text": [
      "INFO:tensorflow:Using MirroredStrategy with devices ('/job:localhost/replica:0/task:0/device:GPU:0',)\n"
     ]
    },
    {
     "name": "stderr",
     "output_type": "stream",
     "text": [
      "INFO:tensorflow:Using MirroredStrategy with devices ('/job:localhost/replica:0/task:0/device:GPU:0',)\n"
     ]
    },
    {
     "name": "stdout",
     "output_type": "stream",
     "text": [
      "Epoch 1/100\n",
      "\u001B[1m71/71\u001B[0m \u001B[32m━━━━━━━━━━━━━━━━━━━━\u001B[0m\u001B[37m\u001B[0m \u001B[1m2s\u001B[0m 10ms/step - loss: 508051.2812 - mae: 302.7513 - mse: 508051.2812 - rmse: 444.5340 - val_loss: 580.3870 - val_mae: 22.4306 - val_mse: 580.3870 - val_rmse: 23.4785\n",
      "Epoch 2/100\n",
      "\u001B[1m71/71\u001B[0m \u001B[32m━━━━━━━━━━━━━━━━━━━━\u001B[0m\u001B[37m\u001B[0m \u001B[1m1s\u001B[0m 8ms/step - loss: 1135.5439 - mae: 27.6639 - mse: 1135.5439 - rmse: 32.9479 - val_loss: 562.7111 - val_mae: 22.0331 - val_mse: 562.7111 - val_rmse: 23.1000\n",
      "Epoch 3/100\n",
      "\u001B[1m71/71\u001B[0m \u001B[32m━━━━━━━━━━━━━━━━━━━━\u001B[0m\u001B[37m\u001B[0m \u001B[1m1s\u001B[0m 8ms/step - loss: 1531.4255 - mae: 27.1819 - mse: 1531.4255 - rmse: 34.3440 - val_loss: 540.8778 - val_mae: 21.5319 - val_mse: 540.8778 - val_rmse: 22.6239\n",
      "Epoch 4/100\n",
      "\u001B[1m71/71\u001B[0m \u001B[32m━━━━━━━━━━━━━━━━━━━━\u001B[0m\u001B[37m\u001B[0m \u001B[1m1s\u001B[0m 7ms/step - loss: 1134.0680 - mae: 25.4646 - mse: 1134.0680 - rmse: 30.6422 - val_loss: 513.4265 - val_mae: 20.8847 - val_mse: 513.4265 - val_rmse: 22.0109\n",
      "Epoch 5/100\n",
      "\u001B[1m71/71\u001B[0m \u001B[32m━━━━━━━━━━━━━━━━━━━━\u001B[0m\u001B[37m\u001B[0m \u001B[1m1s\u001B[0m 8ms/step - loss: 790.8617 - mae: 24.2039 - mse: 790.8617 - rmse: 27.7253 - val_loss: 480.2451 - val_mae: 20.0746 - val_mse: 480.2451 - val_rmse: 21.2469\n",
      "Epoch 6/100\n",
      "\u001B[1m71/71\u001B[0m \u001B[32m━━━━━━━━━━━━━━━━━━━━\u001B[0m\u001B[37m\u001B[0m \u001B[1m1s\u001B[0m 8ms/step - loss: 681.7753 - mae: 22.6494 - mse: 681.7753 - rmse: 25.7634 - val_loss: 446.1163 - val_mae: 19.2081 - val_mse: 446.1163 - val_rmse: 20.4319\n",
      "Epoch 7/100\n",
      "\u001B[1m71/71\u001B[0m \u001B[32m━━━━━━━━━━━━━━━━━━━━\u001B[0m\u001B[37m\u001B[0m \u001B[1m1s\u001B[0m 8ms/step - loss: 585.4633 - mae: 21.4129 - mse: 585.4633 - rmse: 24.1028 - val_loss: 411.2462 - val_mae: 18.2810 - val_mse: 411.2462 - val_rmse: 19.5652\n",
      "Epoch 8/100\n",
      "\u001B[1m71/71\u001B[0m \u001B[32m━━━━━━━━━━━━━━━━━━━━\u001B[0m\u001B[37m\u001B[0m \u001B[1m1s\u001B[0m 8ms/step - loss: 543.3280 - mae: 20.5079 - mse: 543.3280 - rmse: 23.2432 - val_loss: 376.4655 - val_mae: 17.3068 - val_mse: 376.4655 - val_rmse: 18.6622\n",
      "Epoch 9/100\n",
      "\u001B[1m71/71\u001B[0m \u001B[32m━━━━━━━━━━━━━━━━━━━━\u001B[0m\u001B[37m\u001B[0m \u001B[1m1s\u001B[0m 8ms/step - loss: 509.0582 - mae: 19.6225 - mse: 509.0582 - rmse: 22.4708 - val_loss: 341.7058 - val_mae: 16.2896 - val_mse: 341.7058 - val_rmse: 17.7160\n",
      "Epoch 10/100\n",
      "\u001B[1m71/71\u001B[0m \u001B[32m━━━━━━━━━━━━━━━━━━━━\u001B[0m\u001B[37m\u001B[0m \u001B[1m1s\u001B[0m 7ms/step - loss: 476.5491 - mae: 18.9390 - mse: 476.5491 - rmse: 21.7422 - val_loss: 305.7742 - val_mae: 15.1964 - val_mse: 305.7742 - val_rmse: 16.6853\n",
      "Epoch 11/100\n",
      "\u001B[1m71/71\u001B[0m \u001B[32m━━━━━━━━━━━━━━━━━━━━\u001B[0m\u001B[37m\u001B[0m \u001B[1m1s\u001B[0m 7ms/step - loss: 450.2991 - mae: 17.9179 - mse: 450.2991 - rmse: 20.9677 - val_loss: 272.0186 - val_mae: 14.1241 - val_mse: 272.0186 - val_rmse: 15.6609\n",
      "Epoch 12/100\n",
      "\u001B[1m71/71\u001B[0m \u001B[32m━━━━━━━━━━━━━━━━━━━━\u001B[0m\u001B[37m\u001B[0m \u001B[1m1s\u001B[0m 8ms/step - loss: 392.4431 - mae: 16.7378 - mse: 392.4431 - rmse: 19.6075 - val_loss: 240.7057 - val_mae: 13.0983 - val_mse: 240.7057 - val_rmse: 14.6551\n",
      "Epoch 13/100\n",
      "\u001B[1m71/71\u001B[0m \u001B[32m━━━━━━━━━━━━━━━━━━━━\u001B[0m\u001B[37m\u001B[0m \u001B[1m1s\u001B[0m 8ms/step - loss: 340.2619 - mae: 15.5345 - mse: 340.2619 - rmse: 18.3545 - val_loss: 210.2292 - val_mae: 12.0596 - val_mse: 210.2292 - val_rmse: 13.6186\n",
      "Epoch 14/100\n",
      "\u001B[1m71/71\u001B[0m \u001B[32m━━━━━━━━━━━━━━━━━━━━\u001B[0m\u001B[37m\u001B[0m \u001B[1m1s\u001B[0m 7ms/step - loss: 311.8289 - mae: 14.8286 - mse: 311.8289 - rmse: 17.5733 - val_loss: 181.4747 - val_mae: 11.0378 - val_mse: 181.4747 - val_rmse: 12.5849\n",
      "Epoch 15/100\n",
      "\u001B[1m71/71\u001B[0m \u001B[32m━━━━━━━━━━━━━━━━━━━━\u001B[0m\u001B[37m\u001B[0m \u001B[1m1s\u001B[0m 8ms/step - loss: 273.7368 - mae: 13.7372 - mse: 273.7368 - rmse: 16.4598 - val_loss: 156.9479 - val_mae: 10.1677 - val_mse: 156.9479 - val_rmse: 11.6613\n",
      "Epoch 16/100\n",
      "\u001B[1m71/71\u001B[0m \u001B[32m━━━━━━━━━━━━━━━━━━━━\u001B[0m\u001B[37m\u001B[0m \u001B[1m1s\u001B[0m 8ms/step - loss: 263.2139 - mae: 12.9721 - mse: 263.2139 - rmse: 15.9382 - val_loss: 134.9867 - val_mae: 9.3769 - val_mse: 134.9867 - val_rmse: 10.8076\n",
      "Epoch 17/100\n",
      "\u001B[1m71/71\u001B[0m \u001B[32m━━━━━━━━━━━━━━━━━━━━\u001B[0m\u001B[37m\u001B[0m \u001B[1m1s\u001B[0m 8ms/step - loss: 258.5052 - mae: 12.0641 - mse: 258.5052 - rmse: 15.3461 - val_loss: 117.6944 - val_mae: 8.7519 - val_mse: 117.6944 - val_rmse: 10.1256\n",
      "Epoch 18/100\n",
      "\u001B[1m71/71\u001B[0m \u001B[32m━━━━━━━━━━━━━━━━━━━━\u001B[0m\u001B[37m\u001B[0m \u001B[1m1s\u001B[0m 8ms/step - loss: 204.7443 - mae: 11.1553 - mse: 204.7443 - rmse: 13.8978 - val_loss: 101.9244 - val_mae: 8.1866 - val_mse: 101.9244 - val_rmse: 9.5047\n",
      "Epoch 19/100\n",
      "\u001B[1m71/71\u001B[0m \u001B[32m━━━━━━━━━━━━━━━━━━━━\u001B[0m\u001B[37m\u001B[0m \u001B[1m1s\u001B[0m 7ms/step - loss: 177.4891 - mae: 10.7560 - mse: 177.4891 - rmse: 13.2517 - val_loss: 91.2893 - val_mae: 7.7996 - val_mse: 91.2893 - val_rmse: 9.0927\n",
      "Epoch 20/100\n",
      "\u001B[1m71/71\u001B[0m \u001B[32m━━━━━━━━━━━━━━━━━━━━\u001B[0m\u001B[37m\u001B[0m \u001B[1m1s\u001B[0m 8ms/step - loss: 152.0908 - mae: 10.0794 - mse: 152.0908 - rmse: 12.2515 - val_loss: 84.3500 - val_mae: 7.5382 - val_mse: 84.3500 - val_rmse: 8.8331\n",
      "Epoch 21/100\n",
      "\u001B[1m71/71\u001B[0m \u001B[32m━━━━━━━━━━━━━━━━━━━━\u001B[0m\u001B[37m\u001B[0m \u001B[1m1s\u001B[0m 8ms/step - loss: 156.1900 - mae: 10.0395 - mse: 156.1900 - rmse: 12.2895 - val_loss: 81.0507 - val_mae: 7.4142 - val_mse: 81.0507 - val_rmse: 8.7166\n",
      "Epoch 22/100\n",
      "\u001B[1m71/71\u001B[0m \u001B[32m━━━━━━━━━━━━━━━━━━━━\u001B[0m\u001B[37m\u001B[0m \u001B[1m1s\u001B[0m 8ms/step - loss: 140.3273 - mae: 9.5994 - mse: 140.3273 - rmse: 11.7770 - val_loss: 79.7627 - val_mae: 7.3622 - val_mse: 79.7627 - val_rmse: 8.6743\n",
      "Epoch 23/100\n",
      "\u001B[1m71/71\u001B[0m \u001B[32m━━━━━━━━━━━━━━━━━━━━\u001B[0m\u001B[37m\u001B[0m \u001B[1m1s\u001B[0m 8ms/step - loss: 141.9588 - mae: 9.6719 - mse: 141.9588 - rmse: 11.8122 - val_loss: 77.8676 - val_mae: 7.2808 - val_mse: 77.8676 - val_rmse: 8.6216\n",
      "Epoch 24/100\n",
      "\u001B[1m71/71\u001B[0m \u001B[32m━━━━━━━━━━━━━━━━━━━━\u001B[0m\u001B[37m\u001B[0m \u001B[1m1s\u001B[0m 8ms/step - loss: 135.4634 - mae: 9.4277 - mse: 135.4634 - rmse: 11.4288 - val_loss: 77.3114 - val_mae: 7.2654 - val_mse: 77.3114 - val_rmse: 8.6176\n",
      "Epoch 25/100\n",
      "\u001B[1m71/71\u001B[0m \u001B[32m━━━━━━━━━━━━━━━━━━━━\u001B[0m\u001B[37m\u001B[0m \u001B[1m1s\u001B[0m 8ms/step - loss: 150.0404 - mae: 9.2891 - mse: 150.0404 - rmse: 11.6252 - val_loss: 77.3192 - val_mae: 7.2750 - val_mse: 77.3192 - val_rmse: 8.6359\n",
      "Epoch 26/100\n",
      "\u001B[1m71/71\u001B[0m \u001B[32m━━━━━━━━━━━━━━━━━━━━\u001B[0m\u001B[37m\u001B[0m \u001B[1m1s\u001B[0m 8ms/step - loss: 149.4539 - mae: 9.0718 - mse: 149.4539 - rmse: 11.2423 - val_loss: 77.6503 - val_mae: 7.2926 - val_mse: 77.6503 - val_rmse: 8.6638\n",
      "Epoch 27/100\n",
      "\u001B[1m71/71\u001B[0m \u001B[32m━━━━━━━━━━━━━━━━━━━━\u001B[0m\u001B[37m\u001B[0m \u001B[1m1s\u001B[0m 8ms/step - loss: 130.6024 - mae: 9.2140 - mse: 130.6024 - rmse: 11.2711 - val_loss: 78.3794 - val_mae: 7.3268 - val_mse: 78.3794 - val_rmse: 8.7106\n",
      "Epoch 28/100\n",
      "\u001B[1m71/71\u001B[0m \u001B[32m━━━━━━━━━━━━━━━━━━━━\u001B[0m\u001B[37m\u001B[0m \u001B[1m1s\u001B[0m 8ms/step - loss: 150.4911 - mae: 9.3062 - mse: 150.4911 - rmse: 11.9180 - val_loss: 79.0374 - val_mae: 7.3559 - val_mse: 79.0374 - val_rmse: 8.7486\n",
      "Epoch 29/100\n",
      "\u001B[1m71/71\u001B[0m \u001B[32m━━━━━━━━━━━━━━━━━━━━\u001B[0m\u001B[37m\u001B[0m \u001B[1m1s\u001B[0m 8ms/step - loss: 129.9479 - mae: 9.2076 - mse: 129.9479 - rmse: 11.2677 - val_loss: 79.7930 - val_mae: 7.3910 - val_mse: 79.7930 - val_rmse: 8.7899\n",
      "Best epoch: 24\n"
     ]
    }
   ],
   "execution_count": 55
  },
  {
   "metadata": {},
   "cell_type": "markdown",
   "source": "Bien qu'un tuning des hyperparametres a ete fait, a un rmse de 8.6176, largement plus grand que celui obtenu avec le modele de decision forest.",
   "id": "66f9e04685a2adc4"
  },
  {
   "metadata": {},
   "cell_type": "markdown",
   "source": "YDF results plotting does not work with here so we will use the following code to plot the results.",
   "id": "9339c9c7d6fe50a1"
  },
  {
   "metadata": {
    "ExecuteTime": {
     "end_time": "2025-03-29T11:52:37.133451Z",
     "start_time": "2025-03-29T11:52:36.857841Z"
    }
   },
   "cell_type": "code",
   "source": [
    "import matplotlib.pyplot as plt\n",
    "\n",
    "# Your training history dictionary\n",
    "history = history.history\n",
    "\n",
    "epochs = range(1, len(history[\"loss\"]) + 1)\n",
    "\n",
    "# Plot Loss\n",
    "plt.figure(figsize=(10, 5))\n",
    "plt.plot(epochs, history[\"loss\"], label=\"Training Loss\")\n",
    "plt.plot(epochs, history[\"val_loss\"], label=\"Validation Loss\")\n",
    "plt.xlabel(\"Epochs\")\n",
    "plt.ylabel(\"Loss\")\n",
    "plt.title(\"Training and Validation Loss\")\n",
    "plt.legend()\n",
    "plt.grid(True)\n",
    "plt.show()\n",
    "\n",
    "# Plot Mean Absolute Error (MAE)\n",
    "plt.figure(figsize=(10, 5))\n",
    "plt.plot(epochs, history[\"mae\"], label=\"Training MAE\")\n",
    "plt.plot(epochs, history[\"val_mae\"], label=\"Validation MAE\")\n",
    "plt.xlabel(\"Epochs\")\n",
    "plt.ylabel(\"MAE\")\n",
    "plt.title(\"Training and Validation MAE\")\n",
    "plt.legend()\n",
    "plt.grid(True)\n",
    "plt.show()\n",
    "\n",
    "# Plot Root Mean Squared Error (RMSE)\n",
    "plt.figure(figsize=(10, 5))\n",
    "plt.plot(epochs, history[\"rmse\"], label=\"Training RMSE\")\n",
    "plt.plot(epochs, history[\"val_rmse\"], label=\"Validation RMSE\")\n",
    "plt.xlabel(\"Epochs\")\n",
    "plt.ylabel(\"RMSE\")\n",
    "plt.title(\"Training and Validation RMSE\")\n",
    "plt.legend()\n",
    "plt.grid(True)\n",
    "plt.show()"
   ],
   "id": "6135075a8a913724",
   "outputs": [
    {
     "data": {
      "text/plain": [
       "<Figure size 1000x500 with 1 Axes>"
      ],
      "image/png": "[encoded data removed]"
     },
     "metadata": {},
     "output_type": "display_data"
    },
    {
     "data": {
      "text/plain": [
       "<Figure size 1000x500 with 1 Axes>"
      ],
      "image/png": "[encoded data removed]"
     },
     "metadata": {},
     "output_type": "display_data"
    },
    {
     "data": {
      "text/plain": [
       "<Figure size 1000x500 with 1 Axes>"
      ],
      "image/png": "[encoded data removed]"
     },
     "metadata": {},
     "output_type": "display_data"
    }
   ],
   "execution_count": 59
  },
  {
   "metadata": {
    "ExecuteTime": {
     "end_time": "2025-03-29T11:49:04.679958Z",
     "start_time": "2025-03-29T11:49:04.480844Z"
    }
   },
   "cell_type": "code",
   "source": [
    "with strategy.scope():\n",
    "    evaluation = model.evaluate(x=X_val, y=y_val)\n",
    "\n",
    "evaluation"
   ],
   "id": "800386d3d76ead5b",
   "outputs": [
    {
     "name": "stdout",
     "output_type": "stream",
     "text": [
      "\u001B[1m18/18\u001B[0m \u001B[32m━━━━━━━━━━━━━━━━━━━━\u001B[0m\u001B[37m\u001B[0m \u001B[1m0s\u001B[0m 4ms/step - loss: 89.3398 - mae: 7.8658 - mse: 89.3398 - rmse: 9.2493     \n"
     ]
    },
    {
     "data": {
      "text/plain": [
       "[79.79296112060547, 79.79296112060547, 7.391023635864258, 8.789944648742676]"
      ]
     },
     "execution_count": 56,
     "metadata": {},
     "output_type": "execute_result"
    }
   ],
   "execution_count": 56
  },
  {
   "metadata": {},
   "cell_type": "markdown",
   "source": [
    "My analysis:\n",
    "- Comparing the rmse of the model with the one obtained with the decision forest model, we can see that the decision forest model is better.\n",
    "- Looking at the training and validation loss, we could think that the model can be improved by training it for more epochs. But, the model is already overfitting. I set the early stopping to avoid this.\n",
    "- We could also try to add more features or better preprocess the data."
   ],
   "id": "3a28f81c10c8750"
  }
 ],
 "metadata": {
  "kernelspec": {
   "display_name": "Python (tag_id)",
   "language": "python",
   "name": "tag_id"
  },
  "language_info": {
   "codemirror_mode": {
    "name": "ipython",
    "version": 2
   },
   "file_extension": ".py",
   "mimetype": "text/x-python",
   "name": "python",
   "nbconvert_exporter": "python",
   "pygments_lexer": "ipython2",
   "version": "2.7.6"
  }
 },
 "nbformat": 4,
 "nbformat_minor": 5
}
