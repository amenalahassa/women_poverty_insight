{
 "cells": [
  {
   "cell_type": "code",
   "id": "initial_id",
   "metadata": {
    "collapsed": true,
    "ExecuteTime": {
     "end_time": "2025-03-25T14:45:08.875806Z",
     "start_time": "2025-03-25T14:44:59.376944Z"
    }
   },
   "source": [
    "import pandas as pd\n",
    "import numpy as np\n",
    "from matplotlib import pyplot as plt\n",
    "import seaborn as sns\n",
    "import tensorflow as tf\n",
    "import math\n",
    "import os\n",
    "import sys\n",
    "# inference_so_dir = os.path.join(\"C:\\\\Users\\\\Public\\\\Documents\\\\Konrad\\\\zindi\\\\women_poverty\\\\venv\\\\Lib\\\\site-packages\\\\tensorflow_decision_forests\\\\tensorflow\\\\ops\\\\inference\")\n",
    "#\n",
    "# os.environ['PATH'] = inference_so_dir + os.pathsep + os.environ['PATH']\n",
    "import tensorflow_decision_forests as tfdf\n",
    "from sklearn.model_selection import train_test_split\n",
    "from wurlitzer import sys_pipes\n",
    "from IPython.core.magic import register_line_magic\n",
    "from IPython.display import Javascript\n",
    "\n",
    "%matplotlib inline\n",
    "plt.rcParams['figure.figsize'] = [16, 10]"
   ],
   "outputs": [
    {
     "name": "stdout",
     "output_type": "stream",
     "text": [
      "WARNING:tensorflow:From C:\\Users\\Public\\Documents\\Konrad\\zindi\\women_poverty\\venv\\Lib\\site-packages\\keras\\src\\losses.py:2976: The name tf.losses.sparse_softmax_cross_entropy is deprecated. Please use tf.compat.v1.losses.sparse_softmax_cross_entropy instead.\n",
      "\n"
     ]
    },
    {
     "name": "stderr",
     "output_type": "stream",
     "text": [
      "WARNING:root:Failure to load the inference.so custom c++ tensorflow ops. This error is likely caused the version of TensorFlow and TensorFlow Decision Forests are not compatible. Full error:C:\\Users\\Public\\Documents\\Konrad\\zindi\\women_poverty\\venv\\Lib\\site-packages\\tensorflow_decision_forests\\tensorflow\\ops\\inference\\inference.so not found\n"
     ]
    },
    {
     "ename": "NotFoundError",
     "evalue": "C:\\Users\\Public\\Documents\\Konrad\\zindi\\women_poverty\\venv\\Lib\\site-packages\\tensorflow_decision_forests\\tensorflow\\ops\\inference\\inference.so not found",
     "output_type": "error",
     "traceback": [
      "\u001B[31m---------------------------------------------------------------------------\u001B[39m",
      "\u001B[31mNotFoundError\u001B[39m                             Traceback (most recent call last)",
      "\u001B[36mCell\u001B[39m\u001B[36m \u001B[39m\u001B[32mIn[1]\u001B[39m\u001B[32m, line 12\u001B[39m\n\u001B[32m      8\u001B[39m \u001B[38;5;28;01mimport\u001B[39;00m\u001B[38;5;250m \u001B[39m\u001B[34;01msys\u001B[39;00m\n\u001B[32m      9\u001B[39m \u001B[38;5;66;03m# inference_so_dir = os.path.join(\"C:\\\\Users\\\\Public\\\\Documents\\\\Konrad\\\\zindi\\\\women_poverty\\\\venv\\\\Lib\\\\site-packages\\\\tensorflow_decision_forests\\\\tensorflow\\\\ops\\\\inference\")\u001B[39;00m\n\u001B[32m     10\u001B[39m \u001B[38;5;66;03m#\u001B[39;00m\n\u001B[32m     11\u001B[39m \u001B[38;5;66;03m# os.environ['PATH'] = inference_so_dir + os.pathsep + os.environ['PATH']\u001B[39;00m\n\u001B[32m---> \u001B[39m\u001B[32m12\u001B[39m \u001B[38;5;28;01mimport\u001B[39;00m\u001B[38;5;250m \u001B[39m\u001B[34;01mtensorflow_decision_forests\u001B[39;00m\u001B[38;5;250m \u001B[39m\u001B[38;5;28;01mas\u001B[39;00m\u001B[38;5;250m \u001B[39m\u001B[34;01mtfdf\u001B[39;00m\n\u001B[32m     13\u001B[39m \u001B[38;5;28;01mfrom\u001B[39;00m\u001B[38;5;250m \u001B[39m\u001B[34;01msklearn\u001B[39;00m\u001B[34;01m.\u001B[39;00m\u001B[34;01mmodel_selection\u001B[39;00m\u001B[38;5;250m \u001B[39m\u001B[38;5;28;01mimport\u001B[39;00m train_test_split\n\u001B[32m     14\u001B[39m \u001B[38;5;28;01mfrom\u001B[39;00m\u001B[38;5;250m \u001B[39m\u001B[34;01mwurlitzer\u001B[39;00m\u001B[38;5;250m \u001B[39m\u001B[38;5;28;01mimport\u001B[39;00m sys_pipes\n",
      "\u001B[36mFile \u001B[39m\u001B[32mC:\\Users\\Public\\Documents\\Konrad\\zindi\\women_poverty\\venv\\Lib\\site-packages\\tensorflow_decision_forests\\__init__.py:64\u001B[39m\n\u001B[32m     60\u001B[39m \u001B[38;5;28;01mfrom\u001B[39;00m\u001B[38;5;250m \u001B[39m\u001B[34;01mtensorflow_decision_forests\u001B[39;00m\u001B[34;01m.\u001B[39;00m\u001B[34;01mtensorflow\u001B[39;00m\u001B[38;5;250m \u001B[39m\u001B[38;5;28;01mimport\u001B[39;00m check_version\n\u001B[32m     62\u001B[39m check_version.check_version(__version__, compatible_tf_versions)\n\u001B[32m---> \u001B[39m\u001B[32m64\u001B[39m \u001B[38;5;28;01mfrom\u001B[39;00m\u001B[38;5;250m \u001B[39m\u001B[34;01mtensorflow_decision_forests\u001B[39;00m\u001B[38;5;250m \u001B[39m\u001B[38;5;28;01mimport\u001B[39;00m keras\n\u001B[32m     65\u001B[39m \u001B[38;5;28;01mfrom\u001B[39;00m\u001B[38;5;250m \u001B[39m\u001B[34;01mtensorflow_decision_forests\u001B[39;00m\u001B[34;01m.\u001B[39;00m\u001B[34;01mcomponent\u001B[39;00m\u001B[38;5;250m \u001B[39m\u001B[38;5;28;01mimport\u001B[39;00m py_tree\n\u001B[32m     66\u001B[39m \u001B[38;5;28;01mfrom\u001B[39;00m\u001B[38;5;250m \u001B[39m\u001B[34;01mtensorflow_decision_forests\u001B[39;00m\u001B[34;01m.\u001B[39;00m\u001B[34;01mcomponent\u001B[39;00m\u001B[34;01m.\u001B[39;00m\u001B[34;01mbuilder\u001B[39;00m\u001B[38;5;250m \u001B[39m\u001B[38;5;28;01mimport\u001B[39;00m builder\n",
      "\u001B[36mFile \u001B[39m\u001B[32mC:\\Users\\Public\\Documents\\Konrad\\zindi\\women_poverty\\venv\\Lib\\site-packages\\tensorflow_decision_forests\\keras\\__init__.py:53\u001B[39m\n\u001B[32m     15\u001B[39m \u001B[33;03m\"\"\"Decision Forest in a Keras Model.\u001B[39;00m\n\u001B[32m     16\u001B[39m \n\u001B[32m     17\u001B[39m \u001B[33;03mUsage example:\u001B[39;00m\n\u001B[32m   (...)\u001B[39m\u001B[32m     48\u001B[39m \u001B[33;03m```\u001B[39;00m\n\u001B[32m     49\u001B[39m \u001B[33;03m\"\"\"\u001B[39;00m\n\u001B[32m     51\u001B[39m \u001B[38;5;28;01mfrom\u001B[39;00m\u001B[38;5;250m \u001B[39m\u001B[34;01mtyping\u001B[39;00m\u001B[38;5;250m \u001B[39m\u001B[38;5;28;01mimport\u001B[39;00m Callable, List\n\u001B[32m---> \u001B[39m\u001B[32m53\u001B[39m \u001B[38;5;28;01mfrom\u001B[39;00m\u001B[38;5;250m \u001B[39m\u001B[34;01mtensorflow_decision_forests\u001B[39;00m\u001B[34;01m.\u001B[39;00m\u001B[34;01mkeras\u001B[39;00m\u001B[38;5;250m \u001B[39m\u001B[38;5;28;01mimport\u001B[39;00m core\n\u001B[32m     54\u001B[39m \u001B[38;5;28;01mfrom\u001B[39;00m\u001B[38;5;250m \u001B[39m\u001B[34;01mtensorflow_decision_forests\u001B[39;00m\u001B[34;01m.\u001B[39;00m\u001B[34;01mkeras\u001B[39;00m\u001B[38;5;250m \u001B[39m\u001B[38;5;28;01mimport\u001B[39;00m wrappers\n\u001B[32m     56\u001B[39m \u001B[38;5;66;03m# Utility classes\u001B[39;00m\n",
      "\u001B[36mFile \u001B[39m\u001B[32mC:\\Users\\Public\\Documents\\Konrad\\zindi\\women_poverty\\venv\\Lib\\site-packages\\tensorflow_decision_forests\\keras\\core.py:62\u001B[39m\n\u001B[32m     60\u001B[39m \u001B[38;5;28;01mfrom\u001B[39;00m\u001B[38;5;250m \u001B[39m\u001B[34;01mtensorflow_decision_forests\u001B[39;00m\u001B[34;01m.\u001B[39;00m\u001B[34;01mcomponent\u001B[39;00m\u001B[34;01m.\u001B[39;00m\u001B[34;01minspector\u001B[39;00m\u001B[38;5;250m \u001B[39m\u001B[38;5;28;01mimport\u001B[39;00m inspector \u001B[38;5;28;01mas\u001B[39;00m inspector_lib\n\u001B[32m     61\u001B[39m \u001B[38;5;28;01mfrom\u001B[39;00m\u001B[38;5;250m \u001B[39m\u001B[34;01mtensorflow_decision_forests\u001B[39;00m\u001B[34;01m.\u001B[39;00m\u001B[34;01mcomponent\u001B[39;00m\u001B[34;01m.\u001B[39;00m\u001B[34;01mtuner\u001B[39;00m\u001B[38;5;250m \u001B[39m\u001B[38;5;28;01mimport\u001B[39;00m tuner \u001B[38;5;28;01mas\u001B[39;00m tuner_lib\n\u001B[32m---> \u001B[39m\u001B[32m62\u001B[39m \u001B[38;5;28;01mfrom\u001B[39;00m\u001B[38;5;250m \u001B[39m\u001B[34;01mtensorflow_decision_forests\u001B[39;00m\u001B[34;01m.\u001B[39;00m\u001B[34;01mkeras\u001B[39;00m\u001B[38;5;250m \u001B[39m\u001B[38;5;28;01mimport\u001B[39;00m core_inference\n\u001B[32m     63\u001B[39m \u001B[38;5;28;01mfrom\u001B[39;00m\u001B[38;5;250m \u001B[39m\u001B[34;01mtensorflow_decision_forests\u001B[39;00m\u001B[34;01m.\u001B[39;00m\u001B[34;01mtensorflow\u001B[39;00m\u001B[38;5;250m \u001B[39m\u001B[38;5;28;01mimport\u001B[39;00m cc_logging\n\u001B[32m     64\u001B[39m \u001B[38;5;28;01mfrom\u001B[39;00m\u001B[38;5;250m \u001B[39m\u001B[34;01mtensorflow_decision_forests\u001B[39;00m\u001B[34;01m.\u001B[39;00m\u001B[34;01mtensorflow\u001B[39;00m\u001B[38;5;250m \u001B[39m\u001B[38;5;28;01mimport\u001B[39;00m core \u001B[38;5;28;01mas\u001B[39;00m tf_core\n",
      "\u001B[36mFile \u001B[39m\u001B[32mC:\\Users\\Public\\Documents\\Konrad\\zindi\\women_poverty\\venv\\Lib\\site-packages\\tensorflow_decision_forests\\keras\\core_inference.py:36\u001B[39m\n\u001B[32m     34\u001B[39m \u001B[38;5;28;01mfrom\u001B[39;00m\u001B[38;5;250m \u001B[39m\u001B[34;01mtensorflow_decision_forests\u001B[39;00m\u001B[34;01m.\u001B[39;00m\u001B[34;01mtensorflow\u001B[39;00m\u001B[38;5;250m \u001B[39m\u001B[38;5;28;01mimport\u001B[39;00m core_inference \u001B[38;5;28;01mas\u001B[39;00m tf_core\n\u001B[32m     35\u001B[39m \u001B[38;5;28;01mfrom\u001B[39;00m\u001B[38;5;250m \u001B[39m\u001B[34;01mtensorflow_decision_forests\u001B[39;00m\u001B[34;01m.\u001B[39;00m\u001B[34;01mtensorflow\u001B[39;00m\u001B[38;5;250m \u001B[39m\u001B[38;5;28;01mimport\u001B[39;00m tf_logging\n\u001B[32m---> \u001B[39m\u001B[32m36\u001B[39m \u001B[38;5;28;01mfrom\u001B[39;00m\u001B[38;5;250m \u001B[39m\u001B[34;01mtensorflow_decision_forests\u001B[39;00m\u001B[34;01m.\u001B[39;00m\u001B[34;01mtensorflow\u001B[39;00m\u001B[34;01m.\u001B[39;00m\u001B[34;01mops\u001B[39;00m\u001B[34;01m.\u001B[39;00m\u001B[34;01minference\u001B[39;00m\u001B[38;5;250m \u001B[39m\u001B[38;5;28;01mimport\u001B[39;00m api \u001B[38;5;28;01mas\u001B[39;00m tf_op\n\u001B[32m     37\u001B[39m \u001B[38;5;28;01mfrom\u001B[39;00m\u001B[38;5;250m \u001B[39m\u001B[34;01myggdrasil_decision_forests\u001B[39;00m\u001B[34;01m.\u001B[39;00m\u001B[34;01mlearner\u001B[39;00m\u001B[38;5;250m \u001B[39m\u001B[38;5;28;01mimport\u001B[39;00m abstract_learner_pb2\n\u001B[32m     38\u001B[39m \u001B[38;5;28;01mfrom\u001B[39;00m\u001B[38;5;250m \u001B[39m\u001B[34;01myggdrasil_decision_forests\u001B[39;00m\u001B[34;01m.\u001B[39;00m\u001B[34;01mlearner\u001B[39;00m\u001B[34;01m.\u001B[39;00m\u001B[34;01mmultitasker\u001B[39;00m\u001B[38;5;250m \u001B[39m\u001B[38;5;28;01mimport\u001B[39;00m multitasker_pb2\n",
      "\u001B[36mFile \u001B[39m\u001B[32mC:\\Users\\Public\\Documents\\Konrad\\zindi\\women_poverty\\venv\\Lib\\site-packages\\tensorflow_decision_forests\\tensorflow\\ops\\inference\\api.py:179\u001B[39m\n\u001B[32m    177\u001B[39m \u001B[38;5;28;01mfrom\u001B[39;00m\u001B[38;5;250m \u001B[39m\u001B[34;01mtensorflow_decision_forests\u001B[39;00m\u001B[34;01m.\u001B[39;00m\u001B[34;01mcomponent\u001B[39;00m\u001B[34;01m.\u001B[39;00m\u001B[34;01minspector\u001B[39;00m\u001B[38;5;250m \u001B[39m\u001B[38;5;28;01mimport\u001B[39;00m inspector \u001B[38;5;28;01mas\u001B[39;00m inspector_lib\n\u001B[32m    178\u001B[39m \u001B[38;5;28;01mfrom\u001B[39;00m\u001B[38;5;250m \u001B[39m\u001B[34;01mtensorflow_decision_forests\u001B[39;00m\u001B[34;01m.\u001B[39;00m\u001B[34;01mtensorflow\u001B[39;00m\u001B[38;5;250m \u001B[39m\u001B[38;5;28;01mimport\u001B[39;00m tf1_compatibility\n\u001B[32m--> \u001B[39m\u001B[32m179\u001B[39m \u001B[38;5;28;01mfrom\u001B[39;00m\u001B[38;5;250m \u001B[39m\u001B[34;01mtensorflow_decision_forests\u001B[39;00m\u001B[34;01m.\u001B[39;00m\u001B[34;01mtensorflow\u001B[39;00m\u001B[34;01m.\u001B[39;00m\u001B[34;01mops\u001B[39;00m\u001B[34;01m.\u001B[39;00m\u001B[34;01minference\u001B[39;00m\u001B[38;5;250m \u001B[39m\u001B[38;5;28;01mimport\u001B[39;00m op\n\u001B[32m    180\u001B[39m \u001B[38;5;28;01mfrom\u001B[39;00m\u001B[38;5;250m \u001B[39m\u001B[34;01myggdrasil_decision_forests\u001B[39;00m\u001B[34;01m.\u001B[39;00m\u001B[34;01mdataset\u001B[39;00m\u001B[38;5;250m \u001B[39m\u001B[38;5;28;01mimport\u001B[39;00m data_spec_pb2\n\u001B[32m    181\u001B[39m \u001B[38;5;28;01mfrom\u001B[39;00m\u001B[38;5;250m \u001B[39m\u001B[34;01myggdrasil_decision_forests\u001B[39;00m\u001B[34;01m.\u001B[39;00m\u001B[34;01mmodel\u001B[39;00m\u001B[38;5;250m \u001B[39m\u001B[38;5;28;01mimport\u001B[39;00m abstract_model_pb2\n",
      "\u001B[36mFile \u001B[39m\u001B[32mC:\\Users\\Public\\Documents\\Konrad\\zindi\\women_poverty\\venv\\Lib\\site-packages\\tensorflow_decision_forests\\tensorflow\\ops\\inference\\op.py:15\u001B[39m\n\u001B[32m      1\u001B[39m \u001B[38;5;66;03m# Copyright 2021 Google LLC.\u001B[39;00m\n\u001B[32m      2\u001B[39m \u001B[38;5;66;03m#\u001B[39;00m\n\u001B[32m      3\u001B[39m \u001B[38;5;66;03m# Licensed under the Apache License, Version 2.0 (the \"License\");\u001B[39;00m\n\u001B[32m   (...)\u001B[39m\u001B[32m     12\u001B[39m \u001B[38;5;66;03m# See the License for the specific language governing permissions and\u001B[39;00m\n\u001B[32m     13\u001B[39m \u001B[38;5;66;03m# limitations under the License.\u001B[39;00m\n\u001B[32m---> \u001B[39m\u001B[32m15\u001B[39m \u001B[38;5;28;01mfrom\u001B[39;00m\u001B[38;5;250m \u001B[39m\u001B[34;01mtensorflow_decision_forests\u001B[39;00m\u001B[34;01m.\u001B[39;00m\u001B[34;01mtensorflow\u001B[39;00m\u001B[34;01m.\u001B[39;00m\u001B[34;01mops\u001B[39;00m\u001B[34;01m.\u001B[39;00m\u001B[34;01minference\u001B[39;00m\u001B[34;01m.\u001B[39;00m\u001B[34;01mop_dynamic\u001B[39;00m\u001B[38;5;250m \u001B[39m\u001B[38;5;28;01mimport\u001B[39;00m *\n",
      "\u001B[36mFile \u001B[39m\u001B[32mC:\\Users\\Public\\Documents\\Konrad\\zindi\\women_poverty\\venv\\Lib\\site-packages\\tensorflow_decision_forests\\tensorflow\\ops\\inference\\op_dynamic.py:24\u001B[39m\n\u001B[32m     22\u001B[39m \u001B[38;5;28;01mexcept\u001B[39;00m \u001B[38;5;167;01mException\u001B[39;00m \u001B[38;5;28;01mas\u001B[39;00m e:\n\u001B[32m     23\u001B[39m   check_version.info_fail_to_load_custom_op(e, \u001B[33m\"\u001B[39m\u001B[33minference.so\u001B[39m\u001B[33m\"\u001B[39m)\n\u001B[32m---> \u001B[39m\u001B[32m24\u001B[39m   \u001B[38;5;28;01mraise\u001B[39;00m e\n\u001B[32m     26\u001B[39m \u001B[38;5;66;03m# Importing all the symbols.\u001B[39;00m\n\u001B[32m     27\u001B[39m module = sys.modules[\u001B[34m__name__\u001B[39m]\n",
      "\u001B[36mFile \u001B[39m\u001B[32mC:\\Users\\Public\\Documents\\Konrad\\zindi\\women_poverty\\venv\\Lib\\site-packages\\tensorflow_decision_forests\\tensorflow\\ops\\inference\\op_dynamic.py:21\u001B[39m\n\u001B[32m     18\u001B[39m \u001B[38;5;28;01mimport\u001B[39;00m\u001B[38;5;250m \u001B[39m\u001B[34;01msys\u001B[39;00m\n\u001B[32m     20\u001B[39m \u001B[38;5;28;01mtry\u001B[39;00m:\n\u001B[32m---> \u001B[39m\u001B[32m21\u001B[39m   ops = \u001B[43mtf\u001B[49m\u001B[43m.\u001B[49m\u001B[43mload_op_library\u001B[49m\u001B[43m(\u001B[49m\u001B[43mresource_loader\u001B[49m\u001B[43m.\u001B[49m\u001B[43mget_path_to_datafile\u001B[49m\u001B[43m(\u001B[49m\u001B[33;43m\"\u001B[39;49m\u001B[33;43minference.so\u001B[39;49m\u001B[33;43m\"\u001B[39;49m\u001B[43m)\u001B[49m\u001B[43m)\u001B[49m\n\u001B[32m     22\u001B[39m \u001B[38;5;28;01mexcept\u001B[39;00m \u001B[38;5;167;01mException\u001B[39;00m \u001B[38;5;28;01mas\u001B[39;00m e:\n\u001B[32m     23\u001B[39m   check_version.info_fail_to_load_custom_op(e, \u001B[33m\"\u001B[39m\u001B[33minference.so\u001B[39m\u001B[33m\"\u001B[39m)\n",
      "\u001B[36mFile \u001B[39m\u001B[32mC:\\Users\\Public\\Documents\\Konrad\\zindi\\women_poverty\\venv\\Lib\\site-packages\\tensorflow\\python\\framework\\load_library.py:54\u001B[39m, in \u001B[36mload_op_library\u001B[39m\u001B[34m(library_filename)\u001B[39m\n\u001B[32m     31\u001B[39m \u001B[38;5;129m@tf_export\u001B[39m(\u001B[33m'\u001B[39m\u001B[33mload_op_library\u001B[39m\u001B[33m'\u001B[39m)\n\u001B[32m     32\u001B[39m \u001B[38;5;28;01mdef\u001B[39;00m\u001B[38;5;250m \u001B[39m\u001B[34mload_op_library\u001B[39m(library_filename):\n\u001B[32m     33\u001B[39m \u001B[38;5;250m  \u001B[39m\u001B[33;03m\"\"\"Loads a TensorFlow plugin, containing custom ops and kernels.\u001B[39;00m\n\u001B[32m     34\u001B[39m \n\u001B[32m     35\u001B[39m \u001B[33;03m  Pass \"library_filename\" to a platform-specific mechanism for dynamically\u001B[39;00m\n\u001B[32m   (...)\u001B[39m\u001B[32m     52\u001B[39m \u001B[33;03m    RuntimeError: when unable to load the library or get the python wrappers.\u001B[39;00m\n\u001B[32m     53\u001B[39m \u001B[33;03m  \"\"\"\u001B[39;00m\n\u001B[32m---> \u001B[39m\u001B[32m54\u001B[39m   lib_handle = \u001B[43mpy_tf\u001B[49m\u001B[43m.\u001B[49m\u001B[43mTF_LoadLibrary\u001B[49m\u001B[43m(\u001B[49m\u001B[43mlibrary_filename\u001B[49m\u001B[43m)\u001B[49m\n\u001B[32m     55\u001B[39m   \u001B[38;5;28;01mtry\u001B[39;00m:\n\u001B[32m     56\u001B[39m     wrappers = _pywrap_python_op_gen.GetPythonWrappers(\n\u001B[32m     57\u001B[39m         py_tf.TF_GetOpList(lib_handle))\n",
      "\u001B[31mNotFoundError\u001B[39m: C:\\Users\\Public\\Documents\\Konrad\\zindi\\women_poverty\\venv\\Lib\\site-packages\\tensorflow_decision_forests\\tensorflow\\ops\\inference\\inference.so not found"
     ]
    }
   ],
   "execution_count": 1
  },
  {
   "metadata": {},
   "cell_type": "markdown",
   "source": "## Load Data",
   "id": "f9548ef1097890d0"
  },
  {
   "metadata": {
    "ExecuteTime": {
     "end_time": "2025-03-25T14:14:04.654513200Z",
     "start_time": "2025-03-25T14:02:18.190985Z"
    }
   },
   "cell_type": "code",
   "source": [
    "df = pd.read_csv('outputs/Train.csv')\n",
    "test_df = pd.read_csv('outputs/Test.csv')\n",
    "vocab_df = pd.read_csv('variable_descriptions.csv')\n",
    "admin_df = pd.read_csv('zaf_adminboundaries_tabulardata.csv', sep=\";\")\n",
    "\n",
    "admin_df[\"AREA_SQKM\"] = admin_df[\"AREA_SQKM\"].str.replace(\",\", \".\").astype(float)\n",
    "df = pd.merge(df, admin_df, on=\"ADM4_PCODE\", how=\"left\")\n",
    "test_df = pd.merge(test_df, admin_df, on=\"ADM4_PCODE\", how=\"left\")\n",
    "\n",
    "X = df.drop(\"target\", axis=1)\n",
    "y = df[\"target\"]\n",
    "X_train, X_val, y_train, y_val = train_test_split(X, y, test_size=0.2, shuffle=False)"
   ],
   "id": "a648365cd73781a4",
   "outputs": [
    {
     "ename": "NameError",
     "evalue": "name 'pd' is not defined",
     "output_type": "error",
     "traceback": [
      "\u001B[31m---------------------------------------------------------------------------\u001B[39m",
      "\u001B[31mNameError\u001B[39m                                 Traceback (most recent call last)",
      "\u001B[36mCell\u001B[39m\u001B[36m \u001B[39m\u001B[32mIn[1]\u001B[39m\u001B[32m, line 1\u001B[39m\n\u001B[32m----> \u001B[39m\u001B[32m1\u001B[39m df = \u001B[43mpd\u001B[49m.read_csv(\u001B[33m'\u001B[39m\u001B[33moutputs/Train.csv\u001B[39m\u001B[33m'\u001B[39m)\n\u001B[32m      2\u001B[39m test_df = pd.read_csv(\u001B[33m'\u001B[39m\u001B[33moutputs/Test.csv\u001B[39m\u001B[33m'\u001B[39m)\n\u001B[32m      3\u001B[39m vocab_df = pd.read_csv(\u001B[33m'\u001B[39m\u001B[33mvariable_descriptions.csv\u001B[39m\u001B[33m'\u001B[39m)\n",
      "\u001B[31mNameError\u001B[39m: name 'pd' is not defined"
     ]
    }
   ],
   "execution_count": 1
  },
  {
   "metadata": {},
   "cell_type": "code",
   "outputs": [],
   "execution_count": null,
   "source": [
    "train_ds_pd = pd.concat([X_train, y_train], axis=1)\n",
    "test_ds_pd = pd.concat([X_val, y_val], axis=1)\n",
    "label = \"target\"\n",
    "train_ds = tfdf.keras.pd_dataframe_to_tf_dataset(train_ds_pd, label=label, task=tfdf.keras.Task.REGRESSION)\n",
    "test_ds = tfdf.keras.pd_dataframe_to_tf_dataset(test_ds_pd, label=label, task=tfdf.keras.Task.REGRESSION)"
   ],
   "id": "29faf2e4bee3d178"
  },
  {
   "metadata": {},
   "cell_type": "code",
   "outputs": [],
   "execution_count": null,
   "source": [
    "# Specify the model.\n",
    "model_1 = tfdf.keras.RandomForestModel(task = tfdf.keras.Task.REGRESSION)\n",
    "\n",
    "# Optionally, add evaluation metrics.\n",
    "model_1.compile(metrics=[\"mse\"])\n",
    "\n",
    "# Train the model.\n",
    "# \"sys_pipes\" is optional. It enables the display of the training logs.\n",
    "# TODO\n",
    "with sys_pipes():\n",
    "    model_1.fit(x=train_ds)\n",
    "\n",
    "evaluation = model_1.evaluate(test_ds, return_dict=True)\n",
    "print()\n",
    "\n",
    "for name, value in evaluation.items():\n",
    "    print(f\"{name}: {value:.4f}\")"
   ],
   "id": "dca2571e77b55dee"
  }
 ],
 "metadata": {
  "kernelspec": {
   "display_name": "Python 3",
   "language": "python",
   "name": "python3"
  },
  "language_info": {
   "codemirror_mode": {
    "name": "ipython",
    "version": 2
   },
   "file_extension": ".py",
   "mimetype": "text/x-python",
   "name": "python",
   "nbconvert_exporter": "python",
   "pygments_lexer": "ipython2",
   "version": "2.7.6"
  }
 },
 "nbformat": 4,
 "nbformat_minor": 5
}
